{
 "cells": [
  {
   "cell_type": "code",
   "id": "initial_id",
   "metadata": {
    "collapsed": true,
    "ExecuteTime": {
     "end_time": "2024-05-17T14:22:07.629309Z",
     "start_time": "2024-05-17T14:22:06.428036Z"
    }
   },
   "source": [
    "# imports\n",
    "import time\n",
    "import numpy as np\n",
    "import pandas as pd\n",
    "from dask_jobqueue import SLURMCluster\n",
    "from distributed import Client\n",
    "from fvgp import GP\n",
    "import src.kernel as kernels\n",
    "import src.hyperparameters as hps\n",
    "import sklearn.metrics as metrics"
   ],
   "outputs": [],
   "execution_count": 1
  },
  {
   "metadata": {
    "ExecuteTime": {
     "end_time": "2024-05-17T14:22:07.634263Z",
     "start_time": "2024-05-17T14:22:07.631115Z"
    }
   },
   "cell_type": "code",
   "source": [
    "# Constan \n",
    "INPUT_SPACE_DIM = 3\n",
    "N1 = 1\n",
    "N2 = 1\n",
    "DT = np.float64\n",
    "DATA_DIR = \"../data/\"\n",
    "DATA_FILE_NAME = 'data_1960.csv'\n",
    "MAT_SIZE = 1500\n",
    "BATCH_SIZE = 100\n",
    "MAX_ITER_TRAIN = 100\n",
    "ENV_TO_SOURCE = 'source /u/dssc/ipasia00/test_dask/dask/bin/activate'"
   ],
   "id": "6f047c9c6eedc727",
   "outputs": [],
   "execution_count": 2
  },
  {
   "metadata": {
    "ExecuteTime": {
     "end_time": "2024-05-17T14:22:08.841912Z",
     "start_time": "2024-05-17T14:22:07.635902Z"
    }
   },
   "cell_type": "code",
   "source": [
    "# Read the data\n",
    "data = pd.read_csv(DATA_DIR + DATA_FILE_NAME)\n",
    "data.dropna(inplace=True)\n",
    "x_data = data[['Latitude', 'Longitude', 'dt_float']].values\n",
    "y_data = data['AverageTemperature'].values\n",
    "\n",
    "idx = np.random.choice(np.arange(x_data.shape[0]), MAT_SIZE, replace=False)\n",
    "x_train = x_data[idx]\n",
    "y_train = y_data[idx]\n"
   ],
   "id": "3aaa98595bf0367e",
   "outputs": [],
   "execution_count": 3
  },
  {
   "metadata": {
    "ExecuteTime": {
     "end_time": "2024-05-17T14:22:10.176633Z",
     "start_time": "2024-05-17T14:22:08.843174Z"
    }
   },
   "cell_type": "code",
   "source": [
    "# Create the cluster\n",
    "\n",
    "## Note!! In the python script this should be replaced with the SLURMCluster\n",
    "# client = client(SLURMCluster ..... )\n",
    "\n",
    "client = Client()"
   ],
   "id": "5b06d66e8852041",
   "outputs": [],
   "execution_count": 4
  },
  {
   "metadata": {
    "ExecuteTime": {
     "end_time": "2024-05-17T14:22:10.200956Z",
     "start_time": "2024-05-17T14:22:10.184739Z"
    }
   },
   "cell_type": "code",
   "source": [
    "# Use the pre-fitted hyperparameters\n",
    "hyperparameters = np.load(\"../out/one_one.npy\")"
   ],
   "id": "f04900f42d680cb8",
   "outputs": [],
   "execution_count": 5
  },
  {
   "metadata": {
    "ExecuteTime": {
     "end_time": "2024-05-17T14:22:29.997305Z",
     "start_time": "2024-05-17T14:22:10.207416Z"
    }
   },
   "cell_type": "code",
   "source": [
    "gp = GP(INPUT_SPACE_DIM, x_train, y_train, init_hyperparameters=hyperparameters,\n",
    "        gp_kernel_function=kernels.custom_kernel_one_shot, gp2Scale=True, gp2Scale_dask_client=client, gp2Scale_batch_size=BATCH_SIZE, info=False)"
   ],
   "id": "77f80837a3d1c0d4",
   "outputs": [
    {
     "name": "stderr",
     "output_type": "stream",
     "text": [
      "/tmp/ipykernel_660769/3185534178.py:1: UserWarning: You have provided callables for kernel, mean, or noise functions but no \n",
      "                 hyperparameter_bounds. That means they have to provided to the training.\n",
      "  gp = GP(INPUT_SPACE_DIM, x_train, y_train, init_hyperparameters=hyperparameters,\n"
     ]
    }
   ],
   "execution_count": 6
  },
  {
   "metadata": {
    "ExecuteTime": {
     "end_time": "2024-05-17T14:22:30.005044Z",
     "start_time": "2024-05-17T14:22:30.002558Z"
    }
   },
   "cell_type": "code",
   "source": "# gp.train(max_iter=MAX_ITER_TRAIN, hyperparameter_bounds=hps.build_bounds(1,1))",
   "id": "8e3ad4bf20408fcb",
   "outputs": [],
   "execution_count": 7
  },
  {
   "metadata": {
    "ExecuteTime": {
     "end_time": "2024-05-17T14:22:30.172171Z",
     "start_time": "2024-05-17T14:22:30.006087Z"
    }
   },
   "cell_type": "code",
   "source": [
    "# extracts some point to test the model\n",
    "\n",
    "N_TEST = 275\n",
    "\n",
    "# remove the test points from the training set\n",
    "x_elegible = np.delete(x_data, idx, axis=0)\n",
    "y_elegible = np.delete(y_data, idx, axis=0)\n",
    "\n",
    "# choose N_TEST points to test the model\n",
    "idx_test = np.random.choice(np.arange(x_elegible.shape[0]), N_TEST, replace=False)\n",
    "x_test = x_elegible[idx_test]\n",
    "y_test = y_elegible[idx_test]"
   ],
   "id": "4d0ecb661b87642",
   "outputs": [],
   "execution_count": 8
  },
  {
   "metadata": {
    "ExecuteTime": {
     "end_time": "2024-05-17T14:22:31.606937Z",
     "start_time": "2024-05-17T14:22:30.173627Z"
    }
   },
   "cell_type": "code",
   "source": [
    "#gp.posterior_mean(x_pred=x_train, hyperparameters=hyperparameters, x_out=x_data)\n",
    "saved = gp.posterior_mean(x_test)"
   ],
   "id": "f4ac7808d7c6f625",
   "outputs": [],
   "execution_count": 9
  },
  {
   "metadata": {
    "ExecuteTime": {
     "end_time": "2024-05-17T14:22:31.618760Z",
     "start_time": "2024-05-17T14:22:31.612206Z"
    }
   },
   "cell_type": "code",
   "source": [
    "# generate random hps \n",
    "random_hps = hps.build_hps(1,1,3)"
   ],
   "id": "5fb32eb57748c43e",
   "outputs": [],
   "execution_count": 10
  },
  {
   "metadata": {
    "ExecuteTime": {
     "end_time": "2024-05-17T14:22:52.396660Z",
     "start_time": "2024-05-17T14:22:31.621123Z"
    }
   },
   "cell_type": "code",
   "source": [
    "random_gp = GP(INPUT_SPACE_DIM, x_train, y_train, init_hyperparameters=random_hps,\n",
    "        gp_kernel_function=kernels.custom_kernel_one_shot, gp2Scale=True, gp2Scale_dask_client=client, gp2Scale_batch_size=BATCH_SIZE, info=False)"
   ],
   "id": "fe979ba27906d18e",
   "outputs": [],
   "execution_count": 11
  },
  {
   "metadata": {
    "ExecuteTime": {
     "end_time": "2024-05-17T14:22:53.844547Z",
     "start_time": "2024-05-17T14:22:52.400765Z"
    }
   },
   "cell_type": "code",
   "source": "random_saved = random_gp.posterior_mean(x_test)",
   "id": "9b759a28ac57e23f",
   "outputs": [],
   "execution_count": 12
  },
  {
   "metadata": {
    "ExecuteTime": {
     "end_time": "2024-05-17T14:22:53.852635Z",
     "start_time": "2024-05-17T14:22:53.847282Z"
    }
   },
   "cell_type": "code",
   "source": "",
   "id": "f993f3b7080fc3c9",
   "outputs": [],
   "execution_count": 12
  },
  {
   "metadata": {
    "ExecuteTime": {
     "end_time": "2024-05-17T14:22:53.872126Z",
     "start_time": "2024-05-17T14:22:53.859679Z"
    }
   },
   "cell_type": "code",
   "source": [
    "# calculate the mean squared error\n",
    "mse = metrics.mean_squared_error(y_test, saved[\"f(x)\"])\n",
    "random_ms = metrics.mean_squared_error(y_test, random_saved[\"f(x)\"])"
   ],
   "id": "b6530cf06ea1c695",
   "outputs": [],
   "execution_count": 13
  },
  {
   "metadata": {
    "ExecuteTime": {
     "end_time": "2024-05-17T14:22:53.881974Z",
     "start_time": "2024-05-17T14:22:53.873805Z"
    }
   },
   "cell_type": "code",
   "source": [
    "print(f\"mse: {mse}\")\n",
    "print(f\"random mse: {random_ms}\")"
   ],
   "id": "fef5ef2a3f60110a",
   "outputs": [
    {
     "name": "stdout",
     "output_type": "stream",
     "text": [
      "mse: 84.49130500234631\n",
      "random mse: 3507.063396146172\n"
     ]
    }
   ],
   "execution_count": 14
  },
  {
   "metadata": {
    "ExecuteTime": {
     "end_time": "2024-05-17T14:22:53.893552Z",
     "start_time": "2024-05-17T14:22:53.883482Z"
    }
   },
   "cell_type": "code",
   "source": [
    "print(np.sqrt(mse))\n",
    "print(np.sqrt(random_ms))"
   ],
   "id": "b94e348451fd2ba6",
   "outputs": [
    {
     "name": "stdout",
     "output_type": "stream",
     "text": [
      "9.191915197734708\n",
      "59.220464335786595\n"
     ]
    }
   ],
   "execution_count": 15
  }
 ],
 "metadata": {
  "kernelspec": {
   "display_name": "Python 3",
   "language": "python",
   "name": "python3"
  },
  "language_info": {
   "codemirror_mode": {
    "name": "ipython",
    "version": 2
   },
   "file_extension": ".py",
   "mimetype": "text/x-python",
   "name": "python",
   "nbconvert_exporter": "python",
   "pygments_lexer": "ipython2",
   "version": "2.7.6"
  }
 },
 "nbformat": 4,
 "nbformat_minor": 5
}
