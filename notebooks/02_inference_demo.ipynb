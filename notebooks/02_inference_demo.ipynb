{
 "cells": [
  {
   "cell_type": "code",
   "id": "initial_id",
   "metadata": {
    "collapsed": true,
    "ExecuteTime": {
     "end_time": "2024-05-15T13:28:45.690448Z",
     "start_time": "2024-05-15T13:28:45.684654Z"
    }
   },
   "source": [
    "# imports\n",
    "import time\n",
    "import numpy as np\n",
    "import pandas as pd\n",
    "from dask_jobqueue import SLURMCluster\n",
    "from distributed import Client\n",
    "from fvgp import GP\n",
    "import src.kernel as kernels\n",
    "import src.hyperparameters as hps\n"
   ],
   "outputs": [],
   "execution_count": 29
  },
  {
   "metadata": {
    "ExecuteTime": {
     "end_time": "2024-05-15T13:28:45.716327Z",
     "start_time": "2024-05-15T13:28:45.711891Z"
    }
   },
   "cell_type": "code",
   "source": [
    "# Constan \n",
    "INPUT_SPACE_DIM = 3\n",
    "N1 = 1\n",
    "N2 = 1\n",
    "DT = np.float64\n",
    "DATA_DIR = \"../data/\"\n",
    "DATA_FILE_NAME = 'data_1960.csv'\n",
    "MAT_SIZE = 100\n",
    "BATCH_SIZE = 10\n",
    "MAX_ITER_TRAIN = 100\n",
    "ENV_TO_SOURCE = 'source /u/dssc/ipasia00/test_dask/dask/bin/activate'"
   ],
   "id": "6f047c9c6eedc727",
   "outputs": [],
   "execution_count": 30
  },
  {
   "metadata": {
    "ExecuteTime": {
     "end_time": "2024-05-15T13:28:47.699420Z",
     "start_time": "2024-05-15T13:28:45.791029Z"
    }
   },
   "cell_type": "code",
   "source": [
    "# Read the data\n",
    "data = pd.read_csv(DATA_DIR + DATA_FILE_NAME)\n",
    "data.dropna(inplace=True)\n",
    "x_data = data[['Latitude', 'Longitude', 'dt_float']].values\n",
    "y_data = data['AverageTemperature'].values\n",
    "\n",
    "idx = np.random.choice(np.arange(x_data.shape[0]), MAT_SIZE, replace=False)\n",
    "x_train = x_data[idx]\n",
    "y_train = y_data[idx]\n"
   ],
   "id": "3aaa98595bf0367e",
   "outputs": [],
   "execution_count": 31
  },
  {
   "metadata": {
    "ExecuteTime": {
     "end_time": "2024-05-15T13:28:48.836873Z",
     "start_time": "2024-05-15T13:28:47.701979Z"
    }
   },
   "cell_type": "code",
   "source": [
    "# Create the cluster\n",
    "\n",
    "## Note!! In the python script this should be replaced with the SLURMCluster\n",
    "# client = client(SLURMCluster ..... )\n",
    "\n",
    "client = Client()"
   ],
   "id": "5b06d66e8852041",
   "outputs": [],
   "execution_count": 32
  },
  {
   "metadata": {
    "ExecuteTime": {
     "end_time": "2024-05-15T13:28:48.874949Z",
     "start_time": "2024-05-15T13:28:48.854242Z"
    }
   },
   "cell_type": "code",
   "source": [
    "# Use the pre-fitted hyperparameters\n",
    "hyperparameters = np.array([-6.47627580e+01,\n",
    "                            -8.33833357e+01,\n",
    "                            1.98049380e+03,\n",
    "                            5.72131884e-01,\n",
    "                            4.54867958e-01,\n",
    "                            3.77962227e+00,\n",
    "                            2.85106104e+00,\n",
    "                            8.61843803e+01,\n",
    "                            5.85992597e+01])"
   ],
   "id": "f04900f42d680cb8",
   "outputs": [],
   "execution_count": 33
  },
  {
   "metadata": {
    "ExecuteTime": {
     "end_time": "2024-05-15T13:28:50.020367Z",
     "start_time": "2024-05-15T13:28:48.897741Z"
    }
   },
   "cell_type": "code",
   "source": [
    "gp = GP(INPUT_SPACE_DIM, x_train, y_train, init_hyperparameters=hyperparameters,\n",
    "        gp_kernel_function=kernels.custom_kernel_one_shot, gp2Scale=True, gp2Scale_dask_client=client, gp2Scale_batch_size=BATCH_SIZE, info=False)"
   ],
   "id": "77f80837a3d1c0d4",
   "outputs": [],
   "execution_count": 34
  },
  {
   "metadata": {
    "ExecuteTime": {
     "end_time": "2024-05-15T13:28:50.301349Z",
     "start_time": "2024-05-15T13:28:50.022235Z"
    }
   },
   "cell_type": "code",
   "source": [
    "# extracts some point to test the model\n",
    "\n",
    "N_TEST = 100\n",
    "\n",
    "# remove the test points from the training set\n",
    "x_elegible = np.delete(x_data, idx, axis=0)\n",
    "y_elegible = np.delete(y_data, idx, axis=0)\n",
    "\n",
    "# choose N_TEST points to test the model\n",
    "idx_test = np.random.choice(np.arange(x_elegible.shape[0]), N_TEST, replace=False)\n",
    "x_test = x_elegible[idx_test]\n",
    "y_test = y_elegible[idx_test]"
   ],
   "id": "4d0ecb661b87642",
   "outputs": [],
   "execution_count": 35
  },
  {
   "metadata": {
    "ExecuteTime": {
     "end_time": "2024-05-15T13:28:50.546744Z",
     "start_time": "2024-05-15T13:28:50.303914Z"
    }
   },
   "cell_type": "code",
   "source": [
    "#gp.posterior_mean(x_pred=x_train, hyperparameters=hyperparameters, x_out=x_data)\n",
    "saved = gp.posterior_mean(x_test)"
   ],
   "id": "f4ac7808d7c6f625",
   "outputs": [],
   "execution_count": 36
  },
  {
   "metadata": {
    "ExecuteTime": {
     "end_time": "2024-05-15T13:28:50.569725Z",
     "start_time": "2024-05-15T13:28:50.557370Z"
    }
   },
   "cell_type": "code",
   "source": [
    "# generate random hps \n",
    "random_hps = hps.build_hps(1,1,3)"
   ],
   "id": "5fb32eb57748c43e",
   "outputs": [],
   "execution_count": 37
  },
  {
   "metadata": {
    "ExecuteTime": {
     "end_time": "2024-05-15T13:28:50.857955Z",
     "start_time": "2024-05-15T13:28:50.580852Z"
    }
   },
   "cell_type": "code",
   "source": [
    "random_gp = GP(INPUT_SPACE_DIM, x_train, y_train, init_hyperparameters=random_hps,\n",
    "        gp_kernel_function=kernels.custom_kernel_one_shot, gp2Scale=True, gp2Scale_dask_client=client, gp2Scale_batch_size=BATCH_SIZE, info=False)"
   ],
   "id": "fe979ba27906d18e",
   "outputs": [],
   "execution_count": 38
  },
  {
   "metadata": {
    "ExecuteTime": {
     "end_time": "2024-05-15T13:28:51.105622Z",
     "start_time": "2024-05-15T13:28:50.859222Z"
    }
   },
   "cell_type": "code",
   "source": "random_saved = random_gp.posterior_mean(x_test)",
   "id": "9b759a28ac57e23f",
   "outputs": [],
   "execution_count": 39
  },
  {
   "metadata": {
    "ExecuteTime": {
     "end_time": "2024-05-15T13:28:51.131703Z",
     "start_time": "2024-05-15T13:28:51.116960Z"
    }
   },
   "cell_type": "code",
   "source": [
    "# calculate the mean squared error\n",
    "import sklearn.metrics as metrics\n",
    "mse = metrics.mean_squared_error(y_train, saved[\"f(x)\"])\n",
    "random_ms = metrics.mean_squared_error(y_train, random_saved[\"f(x)\"])"
   ],
   "id": "b6530cf06ea1c695",
   "outputs": [],
   "execution_count": 40
  },
  {
   "metadata": {
    "ExecuteTime": {
     "end_time": "2024-05-15T13:28:51.150704Z",
     "start_time": "2024-05-15T13:28:51.134623Z"
    }
   },
   "cell_type": "code",
   "source": [
    "print(f\"mse: {mse}\")\n",
    "print(f\"random mse: {random_ms}\")"
   ],
   "id": "fef5ef2a3f60110a",
   "outputs": [
    {
     "name": "stdout",
     "output_type": "stream",
     "text": [
      "mse: 84.84031149965531\n",
      "random mse: 2070.8883780913734\n"
     ]
    }
   ],
   "execution_count": 41
  },
  {
   "metadata": {
    "ExecuteTime": {
     "end_time": "2024-05-15T13:28:51.167342Z",
     "start_time": "2024-05-15T13:28:51.154020Z"
    }
   },
   "cell_type": "code",
   "source": [
    "# print(np.sqrt(mse))\n",
    "# print(np.sqrt(random_ms))"
   ],
   "id": "b94e348451fd2ba6",
   "outputs": [
    {
     "name": "stdout",
     "output_type": "stream",
     "text": [
      "9.210880061082943\n",
      "45.50701460315072\n"
     ]
    }
   ],
   "execution_count": 42
  }
 ],
 "metadata": {
  "kernelspec": {
   "display_name": "Python 3",
   "language": "python",
   "name": "python3"
  },
  "language_info": {
   "codemirror_mode": {
    "name": "ipython",
    "version": 2
   },
   "file_extension": ".py",
   "mimetype": "text/x-python",
   "name": "python",
   "nbconvert_exporter": "python",
   "pygments_lexer": "ipython2",
   "version": "2.7.6"
  }
 },
 "nbformat": 4,
 "nbformat_minor": 5
}
